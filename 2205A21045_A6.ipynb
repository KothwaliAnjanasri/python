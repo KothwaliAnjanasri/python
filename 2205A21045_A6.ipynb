{
  "nbformat": 4,
  "nbformat_minor": 0,
  "metadata": {
    "colab": {
      "provenance": [],
      "authorship_tag": "ABX9TyPtGP3k335/FmHx5goqxQQm",
      "include_colab_link": true
    },
    "kernelspec": {
      "name": "python3",
      "display_name": "Python 3"
    },
    "language_info": {
      "name": "python"
    }
  },
  "cells": [
    {
      "cell_type": "markdown",
      "metadata": {
        "id": "view-in-github",
        "colab_type": "text"
      },
      "source": [
        "<a href=\"https://colab.research.google.com/github/KothwaliAnjanasri/python/blob/main/2205A21045_A6.ipynb\" target=\"_parent\"><img src=\"https://colab.research.google.com/assets/colab-badge.svg\" alt=\"Open In Colab\"/></a>"
      ]
    },
    {
      "cell_type": "code",
      "source": [
        "print(\"PATTERN-1\")\n",
        "for row in range(6):\n",
        "  for col in range(6):\n",
        "    if(row<=col):\n",
        "      print(\"+\",end=\"\")\n",
        "  print()\n",
        "i=0\n",
        "\n",
        "while(i<6):\n",
        "  j=0\n",
        "  while(j<6):\n",
        "    if(i<=j):\n",
        "      print(\"+\",end=\"\")\n",
        "    j+=1\n",
        "  i+=1\n",
        "  print()"
      ],
      "metadata": {
        "colab": {
          "base_uri": "https://localhost:8080/"
        },
        "id": "1IVfMUTWXFyc",
        "outputId": "4ba532f1-1ec3-4727-edda-15cb8cecd5a6"
      },
      "execution_count": 41,
      "outputs": [
        {
          "output_type": "stream",
          "name": "stdout",
          "text": [
            "PATTERN-1\n",
            "++++++\n",
            "+++++\n",
            "++++\n",
            "+++\n",
            "++\n",
            "+\n",
            "++++++\n",
            "+++++\n",
            "++++\n",
            "+++\n",
            "++\n",
            "+\n"
          ]
        }
      ]
    },
    {
      "cell_type": "code",
      "execution_count": 36,
      "metadata": {
        "colab": {
          "base_uri": "https://localhost:8080/"
        },
        "id": "pJIcHKvwViiI",
        "outputId": "0adef6bd-5b0a-49cf-c586-97816b3222a7"
      },
      "outputs": [
        {
          "output_type": "stream",
          "name": "stdout",
          "text": [
            "*\n",
            "**\n",
            "***\n",
            "****\n",
            "*****\n",
            "******\n",
            "*\n",
            "**\n",
            "***\n",
            "****\n",
            "*****\n",
            "******\n"
          ]
        }
      ],
      "source": [
        "print(\"PATTERN-2\")\n",
        "for row in range(6):\n",
        "  for col in range(6):\n",
        "    if(col<=row):\n",
        "      print(\"*\",end=\"\")\n",
        "  print()\n",
        "i=0\n",
        "\n",
        "while(i<6):\n",
        "  j=0\n",
        "  while(j<6):\n",
        "    if(j<=i):\n",
        "      print(\"*\",end=\"\")\n",
        "    j+=1\n",
        "  i+=1\n",
        "  print()"
      ]
    },
    {
      "cell_type": "code",
      "source": [
        "print(\"PATTERN-3\")\n",
        "for row in range(5):\n",
        "    for col in range(5):\n",
        "        if (col < 5 - row - 1):\n",
        "            print(\" \", end=\"\")\n",
        "        else:\n",
        "            print(\"*\", end=\"\")\n",
        "    print()\n",
        "\n",
        "\n",
        "\n",
        "rows = 5\n",
        "i = 0\n",
        "while i < rows:\n",
        "    j = 0\n",
        "    while j < (rows - i - 1):\n",
        "        print(\" \", end='')\n",
        "        j += 1\n",
        "    j = 0\n",
        "    while j <= i:\n",
        "        print(\"*\", end='')\n",
        "        j += 1\n",
        "    print('')\n",
        "    i += 1\n"
      ],
      "metadata": {
        "colab": {
          "base_uri": "https://localhost:8080/"
        },
        "id": "4hRzCbtIZbM3",
        "outputId": "2e8f10b6-bfad-4b59-a04d-86f7accbe3bf"
      },
      "execution_count": 42,
      "outputs": [
        {
          "output_type": "stream",
          "name": "stdout",
          "text": [
            "PATTERN-3\n",
            "    *\n",
            "   **\n",
            "  ***\n",
            " ****\n",
            "*****\n",
            "    *\n",
            "   **\n",
            "  ***\n",
            " ****\n",
            "*****\n"
          ]
        }
      ]
    },
    {
      "cell_type": "code",
      "source": [
        "print(\"PATTERN-4\")\n",
        "rows=6\n",
        "for i in range(rows):\n",
        "    print(' ' * (i * 1), end='')\n",
        "    print('+' * (rows - i))\n",
        "\n",
        "\n",
        "rows = 6\n",
        "i = 0\n",
        "while i < rows:\n",
        "    print(' ' * i, end='')\n",
        "    print('+' * (rows - i))\n",
        "    i += 1\n",
        "\n"
      ],
      "metadata": {
        "colab": {
          "base_uri": "https://localhost:8080/"
        },
        "id": "jk46qMl4XWbH",
        "outputId": "5886f1c9-4bf6-4c39-d56a-6647f22a5f82"
      },
      "execution_count": 43,
      "outputs": [
        {
          "output_type": "stream",
          "name": "stdout",
          "text": [
            "PATTERN-4\n",
            "++++++\n",
            " +++++\n",
            "  ++++\n",
            "   +++\n",
            "    ++\n",
            "     +\n",
            "++++++\n",
            " +++++\n",
            "  ++++\n",
            "   +++\n",
            "    ++\n",
            "     +\n"
          ]
        }
      ]
    }
  ]
}