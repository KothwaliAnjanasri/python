{
  "nbformat": 4,
  "nbformat_minor": 0,
  "metadata": {
    "colab": {
      "provenance": [],
      "authorship_tag": "ABX9TyP4YH8CKTAnDlTTk+BcyD5x",
      "include_colab_link": true
    },
    "kernelspec": {
      "name": "python3",
      "display_name": "Python 3"
    },
    "language_info": {
      "name": "python"
    }
  },
  "cells": [
    {
      "cell_type": "markdown",
      "metadata": {
        "id": "view-in-github",
        "colab_type": "text"
      },
      "source": [
        "<a href=\"https://colab.research.google.com/github/KothwaliAnjanasri/python/blob/main/2205A21045_A8.ipynb\" target=\"_parent\"><img src=\"https://colab.research.google.com/assets/colab-badge.svg\" alt=\"Open In Colab\"/></a>"
      ]
    },
    {
      "cell_type": "code",
      "execution_count": 50,
      "metadata": {
        "colab": {
          "base_uri": "https://localhost:8080/"
        },
        "id": "AcKwkePjsfNK",
        "outputId": "a66232dc-aea0-4afe-85d3-e91ed82dc2ce"
      },
      "outputs": [
        {
          "output_type": "stream",
          "name": "stdout",
          "text": [
            "Qualification= ['venkat', 'B.Tech', 2006, 'M.E.', 2011, 'Ph.D', 2018]\n",
            "Experience= ['SSCE', '2007', 'Infosys', '2011', 'AITAM', '2013', 'SREC', '2018']\n",
            "CA= ['venkat', 'B.Tech', 2006, 'M.E.', 2011, 'Ph.D', 2018, 'SSCE', '2007', 'Infosys', '2011', 'AITAM', '2013', 'SREC', '2018']\n"
          ]
        }
      ],
      "source": [
        "Qualification=['venkat', 'B.Tech', 2006, 'M.E.', 2011, 'Ph.D', 2018]\n",
        "Experience=['SSCE', '2007', 'Infosys', '2011', 'AITAM', '2013', 'SREC', '2018']\n",
        "CA=Qualification + Experience\n",
        "print(\"Qualification=\",Qualification)\n",
        "print(\"Experience=\",Experience)\n",
        "print(\"CA=\", CA)\n"
      ]
    },
    {
      "cell_type": "code",
      "source": [
        "Qualification = ['venkat', 'B.Tech', 2006, 'Μ.Ε', 2011, 'Ph.D', 2018]\n",
        "print(Qualification)\n",
        "print(Qualification[0])\n",
        "print(Qualification[1:])\n",
        "print(Qualification[1:5])\n",
        "print(Qualification *2)\n",
        "print(Qualification[::-1])"
      ],
      "metadata": {
        "colab": {
          "base_uri": "https://localhost:8080/"
        },
        "id": "EyhFqzKXvQkQ",
        "outputId": "7979a5c3-ffb1-4313-d888-01b055e1579e"
      },
      "execution_count": 51,
      "outputs": [
        {
          "output_type": "stream",
          "name": "stdout",
          "text": [
            "['venkat', 'B.Tech', 2006, 'Μ.Ε', 2011, 'Ph.D', 2018]\n",
            "venkat\n",
            "['B.Tech', 2006, 'Μ.Ε', 2011, 'Ph.D', 2018]\n",
            "['B.Tech', 2006, 'Μ.Ε', 2011]\n",
            "['venkat', 'B.Tech', 2006, 'Μ.Ε', 2011, 'Ph.D', 2018, 'venkat', 'B.Tech', 2006, 'Μ.Ε', 2011, 'Ph.D', 2018]\n",
            "[2018, 'Ph.D', 2011, 'Μ.Ε', 2006, 'B.Tech', 'venkat']\n"
          ]
        }
      ]
    },
    {
      "cell_type": "code",
      "source": [
        "list=['venkat', '1985']\n",
        "print('Venkat birth year', list[1])\n",
        "list[0]='dev'\n",
        "list[1]=2017\n",
        "print('dev birth year', list[1])"
      ],
      "metadata": {
        "colab": {
          "base_uri": "https://localhost:8080/"
        },
        "id": "wXJTgxOcvUJF",
        "outputId": "0c4fbcb1-5671-4612-fb15-7180b35907e1"
      },
      "execution_count": 52,
      "outputs": [
        {
          "output_type": "stream",
          "name": "stdout",
          "text": [
            "Venkat birth year 1985\n",
            "dev birth year 2017\n"
          ]
        }
      ]
    },
    {
      "cell_type": "code",
      "source": [
        "list=['venkat', '1985']\n",
        "print(list)\n",
        "del list[1]\n",
        "print(list)"
      ],
      "metadata": {
        "colab": {
          "base_uri": "https://localhost:8080/"
        },
        "id": "t7dcfJ4vwTkj",
        "outputId": "d779792c-4206-4683-c1c0-ca1139e6211d"
      },
      "execution_count": 53,
      "outputs": [
        {
          "output_type": "stream",
          "name": "stdout",
          "text": [
            "['venkat', '1985']\n",
            "['venkat']\n"
          ]
        }
      ]
    },
    {
      "cell_type": "code",
      "source": [
        "Name=['Ramana', 'Thanmai', 'Dev']\n",
        "DOB=[1985,2014,2017]\n",
        "print('Number of peoples',len(Name))\n",
        "print('==================')\n",
        "Details=Name+DOB\n",
        "print('Biodata', Details)\n",
        "print('===================')\n",
        "Repetition=Name*2\n",
        "print('Repetition', Repetition)\n",
        "print('====================')\n",
        "for x in Name:\n",
        "  print(x)\n",
        "print(\"=================\")\n"
      ],
      "metadata": {
        "colab": {
          "base_uri": "https://localhost:8080/"
        },
        "id": "dyrDuHYIwm0p",
        "outputId": "a876b69a-e00e-49b7-f0cd-2bf2ae4382e0"
      },
      "execution_count": 54,
      "outputs": [
        {
          "output_type": "stream",
          "name": "stdout",
          "text": [
            "Number of peoples 3\n",
            "==================\n",
            "Biodata ['Ramana', 'Thanmai', 'Dev', 1985, 2014, 2017]\n",
            "===================\n",
            "Repetition ['Ramana', 'Thanmai', 'Dev', 'Ramana', 'Thanmai', 'Dev']\n",
            "====================\n",
            "Ramana\n",
            "Thanmai\n",
            "Dev\n",
            "=================\n"
          ]
        }
      ]
    },
    {
      "cell_type": "code",
      "source": [
        "Name =['Ramana', 'Thanmal', 'Dev']\n",
        "DOB=[1985,2014,2017]\n",
        "print('Name with maximum charecters', max(Name))\n",
        "print(\"Younger person DOB\", max(DOB))\n",
        "print(\"Name with minimum charecters\", min(Name))\n",
        "print('Older person DOB', min(DOB))"
      ],
      "metadata": {
        "colab": {
          "base_uri": "https://localhost:8080/"
        },
        "id": "vsg9bXgewnCW",
        "outputId": "4fe1e8f7-227e-4872-d57d-ad18f3d7b438"
      },
      "execution_count": 55,
      "outputs": [
        {
          "output_type": "stream",
          "name": "stdout",
          "text": [
            "Name with maximum charecters Thanmal\n",
            "Younger person DOB 2017\n",
            "Name with minimum charecters Dev\n",
            "Older person DOB 1985\n"
          ]
        }
      ]
    },
    {
      "cell_type": "code",
      "source": [
        "Students=['ram', 'venkat']\n",
        "print(Students)\n",
        "Students.append(\"Dev\")\n",
        "print(Students)"
      ],
      "metadata": {
        "colab": {
          "base_uri": "https://localhost:8080/"
        },
        "id": "OwpnLliHvp-g",
        "outputId": "2af64903-c129-4e41-e993-47372ed06658"
      },
      "execution_count": 56,
      "outputs": [
        {
          "output_type": "stream",
          "name": "stdout",
          "text": [
            "['ram', 'venkat']\n",
            "['ram', 'venkat', 'Dev']\n"
          ]
        }
      ]
    },
    {
      "cell_type": "code",
      "source": [
        "Grade=['A','A','B','C','A']\n",
        "print(\"How many peoples got a grade\",Grade.count('A'))"
      ],
      "metadata": {
        "colab": {
          "base_uri": "https://localhost:8080/"
        },
        "id": "cwe_SpUYyEuO",
        "outputId": "8297e1cd-7a0d-46cb-de69-8ae46e11c003"
      },
      "execution_count": 57,
      "outputs": [
        {
          "output_type": "stream",
          "name": "stdout",
          "text": [
            "How many peoples got a grade 3\n"
          ]
        }
      ]
    },
    {
      "cell_type": "code",
      "source": [
        "Family=[\"Venkat\", \"Swetha\"]\n",
        "print('Family members', Family)\n",
        "atuple=(\"Dev\", \"Thanmai\")\n",
        "Family.extend(atuple)\n",
        "print('Family members', Family)"
      ],
      "metadata": {
        "colab": {
          "base_uri": "https://localhost:8080/"
        },
        "id": "Wuvf6cpByExz",
        "outputId": "68202029-7989-4551-bb25-1ca2f2357de7"
      },
      "execution_count": 58,
      "outputs": [
        {
          "output_type": "stream",
          "name": "stdout",
          "text": [
            "Family members ['Venkat', 'Swetha']\n",
            "Family members ['Venkat', 'Swetha', 'Dev', 'Thanmai']\n"
          ]
        }
      ]
    },
    {
      "cell_type": "code",
      "source": [
        "Grade=['A','A','B','C','A','B']\n",
        "print(\"lowest index for grade B\",Grade.index(\"B\"))"
      ],
      "metadata": {
        "colab": {
          "base_uri": "https://localhost:8080/"
        },
        "id": "i9xMaxBayFAe",
        "outputId": "6e3bc945-f2cd-4468-bee3-6d3e5ed55c7a"
      },
      "execution_count": 59,
      "outputs": [
        {
          "output_type": "stream",
          "name": "stdout",
          "text": [
            "lowest index for grade B 2\n"
          ]
        }
      ]
    },
    {
      "cell_type": "code",
      "source": [
        "Family=[\"Ramana\", \"Swetha\", \"Thanmai\", \"Dev\"]\n",
        "print(\"Family members\", Family)\n",
        "Family.reverse()\n",
        "print(\"Family members\", Family)"
      ],
      "metadata": {
        "colab": {
          "base_uri": "https://localhost:8080/"
        },
        "id": "SwUsDEV-zJMK",
        "outputId": "5fa9356d-cd4a-4bb9-be22-77a8d645482e"
      },
      "execution_count": 60,
      "outputs": [
        {
          "output_type": "stream",
          "name": "stdout",
          "text": [
            "Family members ['Ramana', 'Swetha', 'Thanmai', 'Dev']\n",
            "Family members ['Dev', 'Thanmai', 'Swetha', 'Ramana']\n"
          ]
        }
      ]
    },
    {
      "cell_type": "code",
      "source": [
        "Family=[\"Ramana\", \"Swetha\", \"Thanmai\", \"Dev\"]\n",
        "print(\"Family members\", Family)\n",
        "Family.remove(\"Ramana\")\n",
        "print(\"Family members\", Family)"
      ],
      "metadata": {
        "colab": {
          "base_uri": "https://localhost:8080/"
        },
        "id": "BdAiJ4RBzY-h",
        "outputId": "6a58517d-54c9-439e-cd5a-b81b7566e75b"
      },
      "execution_count": 61,
      "outputs": [
        {
          "output_type": "stream",
          "name": "stdout",
          "text": [
            "Family members ['Ramana', 'Swetha', 'Thanmai', 'Dev']\n",
            "Family members ['Swetha', 'Thanmai', 'Dev']\n"
          ]
        }
      ]
    },
    {
      "cell_type": "code",
      "source": [
        "Family=[\"Ramana\",\"Thanmai\", \"Dev\"]\n",
        "print(\"Family members\", Family)\n",
        "Family.insert(1,\"swetha\")\n",
        "print(\"Family members\", Family)"
      ],
      "metadata": {
        "colab": {
          "base_uri": "https://localhost:8080/"
        },
        "id": "XWJaYc3d0AI4",
        "outputId": "eba232d4-8789-4239-894f-8cfae274c1d9"
      },
      "execution_count": 62,
      "outputs": [
        {
          "output_type": "stream",
          "name": "stdout",
          "text": [
            "Family members ['Ramana', 'Thanmai', 'Dev']\n",
            "Family members ['Ramana', 'swetha', 'Thanmai', 'Dev']\n"
          ]
        }
      ]
    },
    {
      "cell_type": "code",
      "source": [
        "Family=[\"Ramana\", \"Swetha\", \"Thanmai\", \"Dev\"]\n",
        "print(\"Family members\", Family)\n",
        "Family.pop()\n",
        "print(\"Family members\", Family)\n",
        "Family.pop(2)\n",
        "print('Family members', Family)"
      ],
      "metadata": {
        "colab": {
          "base_uri": "https://localhost:8080/"
        },
        "id": "55zTrnGp0QGD",
        "outputId": "c85ddaf7-0a6c-4bb0-8a65-e27a27928fb2"
      },
      "execution_count": 63,
      "outputs": [
        {
          "output_type": "stream",
          "name": "stdout",
          "text": [
            "Family members ['Ramana', 'Swetha', 'Thanmai', 'Dev']\n",
            "Family members ['Ramana', 'Swetha', 'Thanmai']\n",
            "Family members ['Ramana', 'Swetha']\n"
          ]
        }
      ]
    },
    {
      "cell_type": "code",
      "source": [
        "tuple=('venkat','B.tech',2006)\n",
        "print(tuple)\n",
        "print(tuple[0])\n",
        "print(tuple[0:2])\n",
        "print(tuple[0:])\n",
        "print(tuple[::-1])\n",
        "print(tuple[2:0:-1])"
      ],
      "metadata": {
        "colab": {
          "base_uri": "https://localhost:8080/"
        },
        "id": "49haA0AgyAsX",
        "outputId": "54dca720-1e93-4ca9-a76e-65c26279cf2c"
      },
      "execution_count": 64,
      "outputs": [
        {
          "output_type": "stream",
          "name": "stdout",
          "text": [
            "('venkat', 'B.tech', 2006)\n",
            "venkat\n",
            "('venkat', 'B.tech')\n",
            "('venkat', 'B.tech', 2006)\n",
            "(2006, 'B.tech', 'venkat')\n",
            "(2006, 'B.tech')\n"
          ]
        }
      ]
    },
    {
      "cell_type": "code",
      "source": [
        "tuple=('venkat','B.tech',2006)\n",
        "pgtuple=('M.E','2011')\n",
        "\n",
        "print(tuple*2)\n",
        "print(tuple + pgtuple)\n",
        "\n",
        "List=['venkat','Ph.D','2018']\n",
        "print(List)\n",
        "\n",
        "List[0]='Ramana'\n",
        "print(List)"
      ],
      "metadata": {
        "colab": {
          "base_uri": "https://localhost:8080/"
        },
        "id": "kjsrexss1YH6",
        "outputId": "4819df5a-667c-47f4-f34d-dc4ebdbdc28d"
      },
      "execution_count": 65,
      "outputs": [
        {
          "output_type": "stream",
          "name": "stdout",
          "text": [
            "('venkat', 'B.tech', 2006, 'venkat', 'B.tech', 2006)\n",
            "('venkat', 'B.tech', 2006, 'M.E', '2011')\n",
            "['venkat', 'Ph.D', '2018']\n",
            "['Ramana', 'Ph.D', '2018']\n"
          ]
        }
      ]
    },
    {
      "cell_type": "code",
      "source": [
        "tiny={'Name':'venkat','Marks':891}\n",
        "print(tiny)\n",
        "print(tiny['Name'])\n",
        "print(tiny['Marks'])\n",
        "tiny['Name']='ramana'\n",
        "print(tiny)"
      ],
      "metadata": {
        "colab": {
          "base_uri": "https://localhost:8080/"
        },
        "id": "yhGAAfXx1XoS",
        "outputId": "7aa79c23-9056-4851-9a68-a22cc2c08373"
      },
      "execution_count": 66,
      "outputs": [
        {
          "output_type": "stream",
          "name": "stdout",
          "text": [
            "{'Name': 'venkat', 'Marks': 891}\n",
            "venkat\n",
            "891\n",
            "{'Name': 'ramana', 'Marks': 891}\n"
          ]
        }
      ]
    },
    {
      "cell_type": "code",
      "source": [
        "dict={}\n",
        "print(dict)\n",
        "dict['one']='this is one'\n",
        "print(dict)\n",
        "dict['2']='this is two'\n",
        "print(dict)\n",
        "print(dict.keys())\n",
        "print(dict.values())"
      ],
      "metadata": {
        "colab": {
          "base_uri": "https://localhost:8080/"
        },
        "id": "JWgO62ow3GZJ",
        "outputId": "b5fe782b-1f95-4f54-e5a3-8e4910e0ca2d"
      },
      "execution_count": 67,
      "outputs": [
        {
          "output_type": "stream",
          "name": "stdout",
          "text": [
            "{}\n",
            "{'one': 'this is one'}\n",
            "{'one': 'this is one', '2': 'this is two'}\n",
            "dict_keys(['one', '2'])\n",
            "dict_values(['this is one', 'this is two'])\n"
          ]
        }
      ]
    },
    {
      "cell_type": "code",
      "source": [
        "thisset={\"apple\", \"banana\", \"cherry\"}\n",
        "mylist = [\"kiwi\", \"orange\"]\n",
        "mylist_2=(2,3)\n",
        "mylist_3={\"Name\": \"Venkat\", \"School\": \"SRU\"}\n",
        "\n",
        "thisset.update(mylist)\n",
        "thisset.update(mylist_2)\n",
        "thisset.update(mylist_3)\n",
        "\n",
        "print(thisset)"
      ],
      "metadata": {
        "colab": {
          "base_uri": "https://localhost:8080/"
        },
        "id": "yZJcTGwG38jS",
        "outputId": "8b422c41-c0ed-4a05-a552-ba1d4b4f2e89"
      },
      "execution_count": 68,
      "outputs": [
        {
          "output_type": "stream",
          "name": "stdout",
          "text": [
            "{2, 3, 'kiwi', 'School', 'banana', 'orange', 'Name', 'apple', 'cherry'}\n"
          ]
        }
      ]
    },
    {
      "cell_type": "code",
      "source": [
        "thisset={\"apple\", \"banana\", \"Cherry\"}\n",
        "tropical={\"pineapple\", \"mango\", \"papaya\"}\n",
        "\n",
        "thisset.update(tropical)\n",
        "\n",
        "print(thisset)"
      ],
      "metadata": {
        "colab": {
          "base_uri": "https://localhost:8080/"
        },
        "id": "iqYGkcqS38rA",
        "outputId": "f3089145-5650-4195-fb91-2c2d91106b3b"
      },
      "execution_count": 69,
      "outputs": [
        {
          "output_type": "stream",
          "name": "stdout",
          "text": [
            "{'Cherry', 'apple', 'mango', 'papaya', 'pineapple', 'banana'}\n"
          ]
        }
      ]
    },
    {
      "cell_type": "code",
      "source": [
        "thisset={\"apple\", \"banana\", \"cherry\"}\n",
        "\n",
        "\n",
        "for x in thisset:\n",
        "    print(x)"
      ],
      "metadata": {
        "colab": {
          "base_uri": "https://localhost:8080/"
        },
        "id": "hnleIS0s3819",
        "outputId": "665b2265-e748-4ddd-b220-ed974eb70e4e"
      },
      "execution_count": 70,
      "outputs": [
        {
          "output_type": "stream",
          "name": "stdout",
          "text": [
            "apple\n",
            "banana\n",
            "cherry\n"
          ]
        }
      ]
    }
  ]
}